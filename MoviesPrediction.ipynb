{
 "cells": [
  {
   "cell_type": "code",
   "execution_count": 571,
   "metadata": {
    "collapsed": true
   },
   "outputs": [],
   "source": [
    "# !/usr/bin/python\n",
    "# -*- coding: utf-8 -*-\n",
    "from math import sqrt\n",
    "import time"
   ]
  },
  {
   "cell_type": "code",
   "execution_count": 572,
   "metadata": {},
   "outputs": [
    {
     "name": "stdout",
     "output_type": "stream",
     "text": [
      "{'1193': 5, '661': 3, '914': 3, '3408': 4, '2355': 5, '1197': 3, '1287': 5, '2804': 5, '594': 4, '919': 4, '595': 5, '938': 4, '2398': 4, '2918': 4, '1035': 5, '2791': 4, '2687': 3, '2018': 4, '3105': 5, '2797': 4, '2321': 3, '720': 3, '1270': 5, '527': 5, '2340': 3, '48': 5, '1097': 4, '1721': 4, '1545': 4, '745': 3, '2294': 4, '3186': 4, '1566': 4, '588': 4, '1907': 4, '783': 4, '1836': 5, '1022': 5, '2762': 4, '150': 5, '1': 5, '1961': 5, '1962': 4, '2692': 4, '260': 4, '1028': 5, '1029': 5, '1207': 4, '2028': 5, '531': 4, '3114': 4, '608': 4, '1246': 4}\n"
     ]
    }
   ],
   "source": [
    "# create ratings.dat dictionary\n",
    "ratings = open(\"./ml-1m/ratings.dat\",\"r\")\n",
    "userRatingsDict = {}\n",
    "\n",
    "for rating in ratings:\n",
    "    data = rating.split('::')\n",
    "    userID = data[0]\n",
    "    movieID = data[1]\n",
    "    rating = int(data[2])\n",
    "    # setup movie ratings to same userID\n",
    "    userRatingsDict.setdefault(userID,{})\n",
    "    temp = userRatingsDict[userID]\n",
    "    temp.update({movieID: rating})\n",
    "    userRatingsDict[userID].update(temp)\n",
    "\n",
    "print(userRatingsDict['1'])\n",
    "ratings.close()"
   ]
  },
  {
   "cell_type": "code",
   "execution_count": 573,
   "metadata": {},
   "outputs": [
    {
     "name": "stdout",
     "output_type": "stream",
     "text": [
      "{'gender': 'F', 'age': 1, 'occupation': 10}\n"
     ]
    }
   ],
   "source": [
    "# create users.dat dictionary\n",
    "users = open(\"./ml-1m/users.dat\",\"r\")\n",
    "usersDict = {}\n",
    "\n",
    "for user in users:\n",
    "    data = user.split('::')\n",
    "    userID = data[0]\n",
    "    gender = data[1]\n",
    "    age = int(data[2])\n",
    "    occupation = int(data[3])\n",
    "    #setup user\n",
    "    usersDict[userID] = {'gender': gender, 'age': age, 'occupation': occupation}\n",
    "\n",
    "print(usersDict['1'])\n",
    "users.close()"
   ]
  },
  {
   "cell_type": "code",
   "execution_count": 574,
   "metadata": {},
   "outputs": [
    {
     "name": "stdout",
     "output_type": "stream",
     "text": [
      "{'movieID': '1', 'title': 'Toy Story (1995)', 'genres': \"Animation|Children's|Comedy\\n\"}\n"
     ]
    }
   ],
   "source": [
    "# create movies.dat dictionary\n",
    "movies = open(\"./ml-1m/movies.dat\",\"r\",encoding='iso-8859-15')\n",
    "moviesDict = {}\n",
    "\n",
    "for movie in movies:\n",
    "    data = movie.split('::')\n",
    "    movieID = data[0]\n",
    "    title = data[1]\n",
    "    genres = data[2]\n",
    "    #setup movie\n",
    "    moviesDict[movieID] = {'movieID': movieID, 'title': title, 'genres': genres}\n",
    "\n",
    "print(moviesDict['1'])\n",
    "movies.close()"
   ]
  },
  {
   "cell_type": "code",
   "execution_count": 575,
   "metadata": {
    "collapsed": true
   },
   "outputs": [],
   "source": [
    "# predictor data\n",
    "knowData =\"\"\"1::Toy Story (1995)::Animation|Children's|Comedy::5\n",
    "2::Jumanji (1995)::Adventure|Children's|Fantasy::4\n",
    "9::Sudden Death (1995)::Action::2\n",
    "10::GoldenEye (1995)::Action|Adventure|Thriller::2\n",
    "13::Balto (1995)::Animation|Children's::1\n",
    "14::Nixon (1995)::Drama::1\n",
    "17::Sense and Sensibility (1995)::Drama|Romance::1\n",
    "23::Assassins (1995)::Thriller::3\n",
    "47::Seven (Se7en) (1995)::Crime|Thriller::2\n",
    "356::Forrest Gump (1994)::Comedy|Romance|War::5\n",
    "3147::Green Mile, The (1999)::Drama|Thriller::5\n",
    "593::Silence of the Lambs, The (1991)::Drama|Thriller::2\n",
    "2028::Saving Private Ryan (1998)::Action|Drama|War::5\n",
    "838::Emma (1996)::Comedy|Drama|Romance::1\n",
    "1721::Titanic (1997)::Drama|Romance::5\n",
    "2628::Star Wars: Episode I - The Phantom Menace (1999)::Action|Adventure|Fantasy|Sci-Fi::4\n",
    "1608::Air Force One (1997)::Action|Thriller::4\n",
    "165::Die Hard: With a Vengeance (1995)::Action|Thriller::4\n",
    "589::Terminator 2: Judgment Day (1991)::Action|Sci-Fi|Thriller::2\"\"\"\n",
    "\n",
    "unknowData = \"\"\"318::Shawshank Redemption, The (1994)::Drama\n",
    "527::Schindler's List (1993)::Drama|War\n",
    "2959::Fight Club (1999)::Drama\n",
    "393::Street Fighter (1994)::Action\n",
    "3285::Beach, The (2000)::Adventure|Drama\n",
    "2571::Matrix, The (1999)::Action|Sci-Fi|Thriller\n",
    "1270::Back to the Future (1985)::Comedy|Sci-Fi\n",
    "3578::Gladiator (2000)::Action|Drama\n",
    "1200::Aliens (1986)::Action|Sci-Fi|Thriller|War\n",
    "2858::American Beauty (1999)::Comedy|Drama\n",
    "22::Copycat (1995)::Crime|Drama|Thriller\"\"\""
   ]
  },
  {
   "cell_type": "code",
   "execution_count": 576,
   "metadata": {},
   "outputs": [
    {
     "name": "stdout",
     "output_type": "stream",
     "text": [
      "{'318': 0, '527': 0, '2959': 0, '393': 0, '3285': 0, '2571': 0, '1270': 0, '3578': 0, '1200': 0, '2858': 0, '22': 0}\n"
     ]
    }
   ],
   "source": [
    "# put predictor know data into dictionary\n",
    "knowDataDict = {}\n",
    "unknowDataDict = {}\n",
    "totalDataDict = {}\n",
    "for rating in knowData.split(\"\\n\"):\n",
    "    data = rating.split(\"::\")\n",
    "    movieID = data[0]\n",
    "    rating = int(data[3])\n",
    "    knowDataDict[movieID] = rating\n",
    "    totalDataDict[movieID] = rating\n",
    "\n",
    "for rating in unknowData.split(\"\\n\"):\n",
    "    data = rating.split(\"::\")\n",
    "    movieID = data[0]\n",
    "    unknowDataDict.setdefault(movieID, 0)\n",
    "    totalDataDict.setdefault(movieID, 0)\n",
    "\n",
    "userRatingsDict['predictor'] = knowDataDict\n",
    "userRatingsDict['unpredictor'] = unknowDataDict\n",
    "userRatingsDict['predictorTotal'] = totalDataDict\n",
    "\n",
    "print(userRatingsDict['unpredictor'])"
   ]
  },
  {
   "cell_type": "code",
   "execution_count": 577,
   "metadata": {},
   "outputs": [
    {
     "name": "stdout",
     "output_type": "stream",
     "text": [
      "['318', '527', '2959', '393', '3285', '2571', '1270', '3578', '1200', '2858', '22']\n"
     ]
    }
   ],
   "source": [
    "# put predictor unknow data into dictionary\n",
    "unknowDataArray = []\n",
    "for rating in unknowData.split(\"\\n\"):\n",
    "    data = rating.split(\"::\")\n",
    "    movieID = data[0]\n",
    "    unknowDataArray.append(movieID)\n",
    "\n",
    "print(unknowDataArray)"
   ]
  },
  {
   "cell_type": "code",
   "execution_count": 578,
   "metadata": {
    "collapsed": true
   },
   "outputs": [],
   "source": [
    "def sim_distance(prefs, p1, p2):\n",
    "    '''\n",
    "    Returns a distance-based similarity score for person1 and person2.\n",
    "    '''\n",
    "\n",
    "    # Get the list of shared_items\n",
    "    si = {}\n",
    "    for item in prefs[p1]:\n",
    "        if item in prefs[p2]:\n",
    "            si[item] = 1\n",
    "    # If they have no ratings in common, return 0\n",
    "    if len(si) == 0:\n",
    "        return 0\n",
    "    # Add up the squares of all the differences\n",
    "    sum_of_squares = sum([pow(prefs[p1][item] - prefs[p2][item], 2) for item in prefs[p1] if item in prefs[p2]])\n",
    "    return 1 / (1 + sqrt(sum_of_squares))"
   ]
  },
  {
   "cell_type": "code",
   "execution_count": 579,
   "metadata": {},
   "outputs": [
    {
     "data": {
      "text/plain": [
       "0.2612038749637414"
      ]
     },
     "execution_count": 579,
     "metadata": {},
     "output_type": "execute_result"
    }
   ],
   "source": [
    "sim_distance(userRatingsDict,\"predictor\",\"674\")"
   ]
  },
  {
   "cell_type": "code",
   "execution_count": 580,
   "metadata": {
    "collapsed": true
   },
   "outputs": [],
   "source": [
    "def sim_pearson(prefs, p1, p2):\n",
    "    '''\n",
    "    Returns the Pearson correlation coefficient for p1 and p2.\n",
    "    '''\n",
    "\n",
    "    # Get the list of mutually rated items\n",
    "    si = {}\n",
    "    for item in prefs[p1]:\n",
    "        if item in prefs[p2]:\n",
    "            si[item] = 1\n",
    "    # If they are no ratings in common, return 0\n",
    "    if len(si) == 0:\n",
    "        return 0\n",
    "    # Sum calculations\n",
    "    n = len(si)\n",
    "    # Sums of all the preferences\n",
    "    sum1 = sum([prefs[p1][it] for it in si])\n",
    "    sum2 = sum([prefs[p2][it] for it in si])\n",
    "    # Sums of the squares\n",
    "    sum1Sq = sum([pow(prefs[p1][it], 2) for it in si])\n",
    "    sum2Sq = sum([pow(prefs[p2][it], 2) for it in si])\n",
    "    # Sum of the products\n",
    "    pSum = sum([prefs[p1][it] * prefs[p2][it] for it in si])\n",
    "    # Calculate r (Pearson score)\n",
    "    num = pSum - sum1 * sum2 / n\n",
    "    den = sqrt((sum1Sq - pow(sum1, 2) / n) * (sum2Sq - pow(sum2, 2) / n))\n",
    "    if den == 0:\n",
    "        return 0\n",
    "    r = num / den\n",
    "    return r"
   ]
  },
  {
   "cell_type": "code",
   "execution_count": 581,
   "metadata": {
    "scrolled": true
   },
   "outputs": [
    {
     "data": {
      "text/plain": [
       "1.0000000000000018"
      ]
     },
     "execution_count": 581,
     "metadata": {},
     "output_type": "execute_result"
    }
   ],
   "source": [
    "sim_pearson(userRatingsDict,'predictor','674')"
   ]
  },
  {
   "cell_type": "code",
   "execution_count": 582,
   "metadata": {
    "collapsed": true
   },
   "outputs": [],
   "source": [
    "def topMatches(prefs, person, n=5, similarity=sim_pearson):\n",
    "    '''\n",
    "    Returns the best matches for person from the prefs dictionary. \n",
    "    Number of results and similarity function are optional params.\n",
    "    '''\n",
    "\n",
    "    scores = [(similarity(prefs, person, other), other) for other in prefs\n",
    "              if other != person]\n",
    "    scores.sort()\n",
    "    scores.reverse()\n",
    "    return scores[0:n]"
   ]
  },
  {
   "cell_type": "code",
   "execution_count": 583,
   "metadata": {},
   "outputs": [
    {
     "data": {
      "text/plain": [
       "[(1.000000000000004, '5289'),\n",
       " (1.0000000000000033, '6026'),\n",
       " (1.0000000000000033, '2742'),\n",
       " (1.0000000000000022, '379'),\n",
       " (1.0000000000000022, '3585'),\n",
       " (1.0000000000000022, '2622'),\n",
       " (1.0000000000000018, '674'),\n",
       " (1.0000000000000018, '5662'),\n",
       " (1.0000000000000018, '5293'),\n",
       " (1.0000000000000018, '4657')]"
      ]
     },
     "execution_count": 583,
     "metadata": {},
     "output_type": "execute_result"
    }
   ],
   "source": [
    "topMatches(userRatingsDict,\"predictor\", 10)"
   ]
  },
  {
   "cell_type": "code",
   "execution_count": 584,
   "metadata": {
    "collapsed": true
   },
   "outputs": [],
   "source": [
    "def getRecommendations(prefs, person, similarity=sim_pearson):\n",
    "    '''\n",
    "    Gets recommendations for a person by using a weighted average\n",
    "    of every other user's rankings\n",
    "    '''\n",
    "\n",
    "    totals = {}\n",
    "    simSums = {}\n",
    "    for other in prefs:\n",
    "    # Don't compare me to myself\n",
    "        if other == person:\n",
    "            continue\n",
    "        sim = similarity(prefs, person, other)\n",
    "        # Ignore scores of zero or lower\n",
    "        if sim <= 0:\n",
    "            continue\n",
    "        for item in prefs[other]:\n",
    "            # Only score movies I haven't seen yet\n",
    "            if item not in prefs[person] or prefs[person][item] == 0:\n",
    "                # Similarity * Score\n",
    "                totals.setdefault(item, 0)\n",
    "                # The final score is calculated by multiplying each item by the\n",
    "                #   similarity and adding these products together\n",
    "                totals[item] += prefs[other][item] * sim\n",
    "                # Sum of similarities\n",
    "                simSums.setdefault(item, 0)\n",
    "                simSums[item] += sim\n",
    "    # Create the normalized list\n",
    "#     rankings = [(total / simSums[item], item) for (item, total) in\n",
    "#                 totals.items()]\n",
    "    rankings = [(item, total / simSums[item]) for (item, total) in\n",
    "                totals.items()]\n",
    "    # Return the sorted list\n",
    "    rankings.sort()\n",
    "    rankings.reverse()\n",
    "    return rankings"
   ]
  },
  {
   "cell_type": "code",
   "execution_count": 585,
   "metadata": {
    "scrolled": true
   },
   "outputs": [
    {
     "name": "stdout",
     "output_type": "stream",
     "text": [
      "318\n",
      "4.617450650542291\n",
      "527\n",
      "4.551936980692199\n",
      "2959\n",
      "3.9344022244718455\n",
      "393\n",
      "1.9839770864961601\n",
      "3285\n",
      "2.850910844821836\n",
      "2571\n",
      "4.23958050507157\n",
      "1270\n",
      "4.064846703342833\n",
      "3578\n",
      "4.138827675012243\n",
      "1200\n",
      "3.968986148390578\n",
      "2858\n",
      "4.2448011367183085\n",
      "22\n",
      "3.2499542072144365\n"
     ]
    }
   ],
   "source": [
    "# get unknow movies rakings\n",
    "# calculator user base process time\n",
    "userBaseStartTime = time.time()\n",
    "recommendations = getRecommendations(userRatingsDict,\"predictor\")\n",
    "userBaseProcessTime = time.time() - userBaseStartTime\n",
    "\n",
    "recommendationsDict = {}\n",
    "for recommendation in recommendations:\n",
    "    movieID = recommendation[0]\n",
    "    rakings = recommendation[1]\n",
    "    recommendationsDict[movieID] = rakings\n",
    "    \n",
    "for moviesID in unknowDataArray :\n",
    "    print(moviesID)\n",
    "    print(recommendationsDict[moviesID])\n"
   ]
  },
  {
   "cell_type": "code",
   "execution_count": 586,
   "metadata": {
    "collapsed": true
   },
   "outputs": [],
   "source": [
    "def transformPrefs(prefs):\n",
    "    '''\n",
    "    Transform the recommendations into a mapping where persons are described\n",
    "    with interest scores for a given title e.g. {title: person} instead of\n",
    "    {person: title}.\n",
    "    '''\n",
    "\n",
    "    result = {}\n",
    "    for person in prefs:\n",
    "        for item in prefs[person]:\n",
    "            result.setdefault(item, {})\n",
    "            # Flip item and person\n",
    "            result[item][person] = prefs[person][item]\n",
    "    return result"
   ]
  },
  {
   "cell_type": "code",
   "execution_count": 587,
   "metadata": {
    "collapsed": true
   },
   "outputs": [],
   "source": [
    "def calculateSimilarItems(prefs, n=10):\n",
    "    '''\n",
    "    Create a dictionary of items showing which other items they are\n",
    "    most similar to.\n",
    "    '''\n",
    "\n",
    "    result = {}\n",
    "    # Invert the preference matrix to be item-centric\n",
    "    itemPrefs = transformPrefs(prefs)\n",
    "    c = 0\n",
    "    for item in itemPrefs:\n",
    "        # Find the most similar items to this one\n",
    "        similar_item = topMatches(userRatingsDict, item, n=n, similarity=sim_distance)\n",
    "        result[item] = similar_item\n",
    "    return result"
   ]
  },
  {
   "cell_type": "code",
   "execution_count": 588,
   "metadata": {
    "scrolled": true
   },
   "outputs": [
    {
     "name": "stdout",
     "output_type": "stream",
     "text": [
      "1 [(1.0, '994'), (1.0, '986'), (1.0, '978'), (1.0, '961'), (1.0, '906'), (1.0, '901'), (1.0, '841'), (1.0, '827'), (1.0, '797'), (1.0, '734')]\n",
      "2 [(1.0, '902'), (1.0, '89'), (1.0, '784'), (1.0, '745'), (1.0, '709'), (1.0, '681'), (1.0, '640'), (1.0, '606'), (1.0, '5993'), (1.0, '5897')]\n",
      "9 [(1.0, '892'), (1.0, '6012'), (1.0, '5983'), (1.0, '5879'), (1.0, '5802'), (1.0, '5729'), (1.0, '5577'), (1.0, '5564'), (1.0, '5467'), (1.0, '5417')]\n",
      "10 [(1.0, '3043'), (1.0, '2037'), (0.5, '61'), (0.5, '4421'), (0.5, '421'), (0.5, '356'), (0.5, '3133'), (0.5, '2819'), (0.5, '2710'), (0.5, '2488')]\n",
      "13 [(1.0, '941'), (1.0, '903'), (1.0, '89'), (1.0, '874'), (1.0, '870'), (1.0, '835'), (1.0, '794'), (1.0, '741'), (1.0, '704'), (1.0, '684')]\n",
      "14 [(1.0, '994'), (1.0, '982'), (1.0, '979'), (1.0, '946'), (1.0, '933'), (1.0, '931'), (1.0, '868'), (1.0, '853'), (1.0, '820'), (1.0, '776')]\n",
      "17 [(1.0, '942'), (1.0, '821'), (1.0, '766'), (1.0, '5215'), (1.0, '5125'), (1.0, '5067'), (1.0, '4971'), (1.0, '4755'), (1.0, '4166'), (1.0, '3980')]\n",
      "23 [(1.0, '5772'), (1.0, '4955'), (1.0, '2673'), (1.0, '1309'), (0.5, '61'), (0.5, '5533'), (0.5, '5462'), (0.5, '5439'), (0.5, '527'), (0.5, '5159')]\n",
      "47 [(1.0, '976'), (1.0, '967'), (1.0, '903'), (1.0, '895'), (1.0, '891'), (1.0, '875'), (1.0, '868'), (1.0, '865'), (1.0, '805'), (1.0, '803')]\n",
      "356 [(1.0, '997'), (1.0, '994'), (1.0, '959'), (1.0, '951'), (1.0, '939'), (1.0, '932'), (1.0, '917'), (1.0, '916'), (1.0, '9'), (1.0, '894')]\n",
      "3147 [(1.0, '991'), (1.0, '989'), (1.0, '892'), (1.0, '745'), (1.0, '703'), (1.0, '5899'), (1.0, '5215'), (1.0, '489'), (1.0, '4723'), (1.0, '447')]\n",
      "593 [(1.0, '967'), (1.0, '950'), (1.0, '947'), (1.0, '946'), (1.0, '941'), (1.0, '907'), (1.0, '895'), (1.0, '870'), (1.0, '860'), (1.0, '851')]\n",
      "2028 [(1.0, '989'), (1.0, '965'), (1.0, '923'), (1.0, '852'), (1.0, '841'), (1.0, '823'), (1.0, '812'), (1.0, '799'), (1.0, '775'), (1.0, '758')]\n",
      "838 [(1.0, '947'), (1.0, '946'), (1.0, '758'), (1.0, '688'), (1.0, '640'), (1.0, '6034'), (1.0, '599'), (1.0, '5936'), (1.0, '5899'), (1.0, '5860')]\n",
      "1721 [(1.0, '942'), (1.0, '917'), (1.0, '901'), (1.0, '886'), (1.0, '874'), (1.0, '717'), (1.0, '683'), (1.0, '612'), (1.0, '5999'), (1.0, '5945')]\n",
      "2628 [(1.0, '989'), (1.0, '878'), (1.0, '874'), (1.0, '5989'), (1.0, '5760'), (1.0, '5729'), (1.0, '5725'), (1.0, '5642'), (1.0, '5462'), (1.0, '5258')]\n",
      "1608 [(1.0, '989'), (1.0, '94'), (1.0, '892'), (1.0, '89'), (1.0, '769'), (1.0, '683'), (1.0, '6034'), (1.0, '6020'), (1.0, '5839'), (1.0, '5802')]\n",
      "165 [(1.0, '982'), (1.0, '942'), (1.0, '871'), (1.0, '834'), (1.0, '833'), (1.0, '821'), (1.0, '759'), (1.0, '719'), (1.0, '704'), (1.0, '668')]\n",
      "589 [(1.0, '992'), (1.0, '989'), (1.0, '976'), (1.0, '967'), (1.0, '950'), (1.0, '942'), (1.0, '941'), (1.0, '917'), (1.0, '913'), (1.0, '870')]\n",
      "318 [(1.0, '988'), (1.0, '985'), (1.0, '982'), (1.0, '98'), (1.0, '978'), (1.0, '969'), (1.0, '967'), (1.0, '962'), (1.0, '941'), (1.0, '94')]\n",
      "527 [(1.0, '997'), (1.0, '979'), (1.0, '943'), (1.0, '927'), (1.0, '925'), (1.0, '918'), (1.0, '915'), (1.0, '906'), (1.0, '894'), (1.0, '876')]\n",
      "2959 [(1.0, '982'), (1.0, '947'), (1.0, '942'), (1.0, '932'), (1.0, '914'), (1.0, '898'), (1.0, '892'), (1.0, '885'), (1.0, '88'), (1.0, '856')]\n",
      "393 [(1.0, '80'), (1.0, '779'), (1.0, '751'), (1.0, '688'), (1.0, '663'), (1.0, '653'), (1.0, '606'), (1.0, '6027'), (1.0, '6017'), (1.0, '5967')]\n",
      "3285 [(0.5, '951'), (0.5, '835'), (0.5, '5609'), (0.4142135623730951, '947'), (0.4142135623730951, '946'), (0.4142135623730951, '681'), (0.4142135623730951, '4649'), (0.4142135623730951, '4614'), (0.4142135623730951, '447'), (0.4142135623730951, '4324')]\n",
      "2571 [(1.0, 'predictor'), (1.0, '992'), (1.0, '917'), (1.0, '906'), (1.0, '85'), (1.0, '845'), (1.0, '827'), (1.0, '784'), (1.0, '77'), (1.0, '683')]\n",
      "1270 [(1.0, '971'), (1.0, '95'), (1.0, '941'), (1.0, '924'), (1.0, '918'), (1.0, '916'), (1.0, '912'), (1.0, '906'), (1.0, '873'), (1.0, '81')]\n",
      "3578 [(1.0, '841'), (1.0, '4955'), (1.0, '4896'), (1.0, '4758'), (1.0, '4549'), (1.0, '4244'), (1.0, '4025'), (1.0, '3325'), (1.0, '3245'), (1.0, '3168')]\n",
      "1200 [(1.0, '974'), (1.0, '94'), (1.0, '913'), (1.0, '91'), (1.0, '906'), (1.0, '904'), (1.0, '892'), (1.0, '885'), (1.0, '87'), (1.0, '852')]\n",
      "2858 [(1.0, '994'), (1.0, '992'), (1.0, '974'), (1.0, '969'), (1.0, '968'), (1.0, '944'), (1.0, '868'), (1.0, '865'), (1.0, '864'), (1.0, '863')]\n",
      "22 [(1.0, '821'), (1.0, '5410'), (1.0, '4968'), (1.0, '4442'), (1.0, '4410'), (1.0, '4211'), (1.0, '3764'), (1.0, '367'), (1.0, '2488'), (1.0, '2373')]\n"
     ]
    }
   ],
   "source": [
    "predictorDict = {}\n",
    "predictorDict['predictorTotal'] = userRatingsDict['predictorTotal']\n",
    "similarItemsResult = calculateSimilarItems(predictorDict, 10)\n",
    "for i in similarItemsResult.keys():\n",
    "    print (i, similarItemsResult[i])"
   ]
  },
  {
   "cell_type": "code",
   "execution_count": 589,
   "metadata": {
    "collapsed": true
   },
   "outputs": [],
   "source": [
    "def getRecommendedItems_item_based(prefs, similar_item_list, user):\n",
    "    userRatings = prefs[user]\n",
    "    scores = {}\n",
    "    totalSim = {}\n",
    "    # Loop over items rated by this user\n",
    "    for (item, rating) in userRatings.items():\n",
    "        if item not in similar_item_list:\n",
    "            continue\n",
    "        # Loop over items similar to this one\n",
    "        for (similarity, item2) in similar_item_list[item]:\n",
    "            # Ignore if this user has already rated this item\n",
    "            if item2 in userRatings:\n",
    "                continue\n",
    "            # Weighted sum of rating times similarity\n",
    "            scores.setdefault(item2, 0)\n",
    "            scores[item2] += similarity * rating\n",
    "            # Sum of all the similarities\n",
    "            totalSim.setdefault(item2, 0)\n",
    "            totalSim[item2] += similarity\n",
    "    # Divide each total score by total weighting to get an average\n",
    "    rankings = [(score / totalSim[item], item) for (item, score) in\n",
    "                scores.items()]\n",
    "    # Return the rankings from highest to lowest\n",
    "    rankings.sort()\n",
    "    rankings.reverse()\n",
    "    return rankings"
   ]
  },
  {
   "cell_type": "code",
   "execution_count": 590,
   "metadata": {
    "scrolled": true
   },
   "outputs": [
    {
     "name": "stdout",
     "output_type": "stream",
     "text": [
      "[(5.0, '997'), (5.0, '991'), (5.0, '986'), (5.0, '978'), (5.0, '965'), (5.0, '961'), (5.0, '959'), (5.0, '951'), (5.0, '939'), (5.0, '932'), (5.0, '923'), (5.0, '916'), (5.0, '906'), (5.0, '901'), (5.0, '894'), (5.0, '886'), (5.0, '852'), (5.0, '841'), (5.0, '827'), (5.0, '823'), (5.0, '812'), (5.0, '799'), (5.0, '797'), (5.0, '775'), (5.0, '734'), (5.0, '717'), (5.0, '703'), (5.0, '612'), (5.0, '5999'), (5.0, '5945'), (5.0, '489'), (5.0, '4723'), (5.0, '447'), (4.5, '745'), (4.5, '683'), (4.0, '989'), (4.0, '94'), (4.0, '917'), (4.0, '902'), (4.0, '878'), (4.0, '871'), (4.0, '834'), (4.0, '833'), (4.0, '784'), (4.0, '769'), (4.0, '759'), (4.0, '719'), (4.0, '709'), (4.0, '681'), (4.0, '668'), (4.0, '606'), (4.0, '6020'), (4.0, '5993'), (4.0, '5989'), (4.0, '5897'), (4.0, '5839'), (4.0, '5760'), (4.0, '5725'), (4.0, '5642'), (4.0, '5258'), (3.6666666666666665, '994'), (3.6666666666666665, '892'), (3.6666666666666665, '5462'), (3.3333333333333335, '874'), (3.0, '942'), (3.0, '89'), (3.0, '758'), (3.0, '5899'), (3.0, '5802'), (3.0, '5772'), (3.0, '5729'), (3.0, '5533'), (3.0, '5439'), (3.0, '527'), (3.0, '5215'), (3.0, '5159'), (3.0, '4955'), (3.0, '2673'), (3.0, '1309'), (2.5, '982'), (2.5, '821'), (2.5, '704'), (2.5, '640'), (2.5, '61'), (2.5, '6034'), (2.0, '992'), (2.0, '976'), (2.0, '967'), (2.0, '950'), (2.0, '913'), (2.0, '907'), (2.0, '895'), (2.0, '891'), (2.0, '875'), (2.0, '865'), (2.0, '860'), (2.0, '851'), (2.0, '805'), (2.0, '803'), (2.0, '6012'), (2.0, '5983'), (2.0, '5879'), (2.0, '5577'), (2.0, '5564'), (2.0, '5467'), (2.0, '5417'), (2.0, '4421'), (2.0, '421'), (2.0, '3133'), (2.0, '3043'), (2.0, '2819'), (2.0, '2710'), (2.0, '2488'), (2.0, '2037'), (1.6666666666666667, '941'), (1.6666666666666667, '870'), (1.5, '947'), (1.5, '903'), (1.5, '868'), (1.3333333333333333, '946'), (1.0, '979'), (1.0, '933'), (1.0, '931'), (1.0, '853'), (1.0, '835'), (1.0, '820'), (1.0, '794'), (1.0, '776'), (1.0, '766'), (1.0, '741'), (1.0, '688'), (1.0, '684'), (1.0, '599'), (1.0, '5936'), (1.0, '5860'), (1.0, '5125'), (1.0, '5067'), (1.0, '4971'), (1.0, '4755'), (1.0, '4166'), (1.0, '3980')]\n"
     ]
    }
   ],
   "source": [
    "# get item base movies\n",
    "# calculator item base process time\n",
    "itemBaseStartTime = time.time()\n",
    "result = getRecommendedItems_item_based(userRatingsDict, similarItemsResult, 'predictor')\n",
    "itemBaseProcessTime = time.time() - itemBaseStartTime\n",
    "print(result)"
   ]
  },
  {
   "cell_type": "code",
   "execution_count": 591,
   "metadata": {
    "collapsed": true
   },
   "outputs": [],
   "source": [
    "# get 45 years old woman movies dictionary\n",
    "womanRatingsDict = {}\n",
    "\n",
    "for userID, data in usersDict.items():\n",
    "    gender = data['gender']\n",
    "    age = data['age']\n",
    "    if gender == 'F' and age == 45:\n",
    "        womanRatingsDict[userID] = userRatingsDict[userID]"
   ]
  },
  {
   "cell_type": "code",
   "execution_count": 592,
   "metadata": {
    "collapsed": true
   },
   "outputs": [],
   "source": [
    "# get one user movies average rating\n",
    "def getUserAverageRating(prefs, user):\n",
    "    return sum([rating for (movieID, rating) in prefs.items()]) / len(prefs)"
   ]
  },
  {
   "cell_type": "code",
   "execution_count": 593,
   "metadata": {
    "collapsed": true
   },
   "outputs": [],
   "source": [
    "# get movie's rating and count by moviesID\n",
    "def getHigherThanAverageRatingMovies(prefs):\n",
    "    womanMoviesCount = {}\n",
    "    for (userID, data) in prefs.items():\n",
    "        averageRating = getUserAverageRating(data, userID)\n",
    "        for (movieID, rating) in data.items():\n",
    "            if rating > averageRating:\n",
    "                if movieID not in womanMoviesCount:\n",
    "                    womanMoviesCount[movieID] = {'score': rating, 'count': 1}\n",
    "                else:\n",
    "                    data = womanMoviesCount[movieID]\n",
    "                    score = data['score'] + rating\n",
    "                    count = data['count'] + 1\n",
    "                    avger = score / count\n",
    "                    womanMoviesCount[movieID] = {'score': score, 'count': count}\n",
    "    return womanMoviesCount"
   ]
  },
  {
   "cell_type": "code",
   "execution_count": 594,
   "metadata": {
    "collapsed": true
   },
   "outputs": [],
   "source": [
    "# get top count movies \n",
    "def getTopCountMovies(prefs, n=5):\n",
    "    womanCountMovies = {}\n",
    "    for (movieID, data) in prefs.items():\n",
    "        score = data['score']\n",
    "        count = data['count']\n",
    "        womanCountMovies[movieID] = count\n",
    "    \n",
    "    ratings = [(rating, item) for (item, rating) in womanCountMovies.items()]\n",
    "    ratings.sort()\n",
    "    ratings.reverse()\n",
    "    return ratings[0:n]"
   ]
  },
  {
   "cell_type": "code",
   "execution_count": 595,
   "metadata": {
    "collapsed": true
   },
   "outputs": [],
   "source": [
    "# get top average movies \n",
    "def getTopScoreMovies(prefs, n=5):\n",
    "    womanScoreMovies = {}\n",
    "    for (movieID, data) in prefs.items():\n",
    "        score = data['score']\n",
    "        count = data['count']\n",
    "        womanScoreMovies[movieID] = score\n",
    "    \n",
    "    ratings = [(score, item) for (item, score) in womanScoreMovies.items()]\n",
    "    ratings.sort()\n",
    "    ratings.reverse()\n",
    "    return ratings[0:n]"
   ]
  },
  {
   "cell_type": "code",
   "execution_count": 596,
   "metadata": {
    "collapsed": true
   },
   "outputs": [],
   "source": [
    "def convertDictionaryByList(items):\n",
    "    resultDict = {} \n",
    "    for item in items:\n",
    "        resultDict[item[1]] = item[0]\n",
    "    return resultDict"
   ]
  },
  {
   "cell_type": "code",
   "execution_count": 597,
   "metadata": {
    "collapsed": true
   },
   "outputs": [],
   "source": [
    "def getTopAverageMovies(topCount, topScore):\n",
    "    womanAverageMovies = {}\n",
    "    for (movie, count) in topCount.items():\n",
    "        movieID = str(movie)\n",
    "        if movieID in topScore:\n",
    "            score = topScore[movieID]\n",
    "            womanAverageMovies[movieID] = score / count\n",
    "            \n",
    "    ratings = [(avger, item) for (item, avger) in womanAverageMovies.items()]\n",
    "    ratings.sort()\n",
    "    ratings.reverse()\n",
    "    return ratings"
   ]
  },
  {
   "cell_type": "code",
   "execution_count": 598,
   "metadata": {},
   "outputs": [
    {
     "name": "stdout",
     "output_type": "stream",
     "text": [
      "womanTopCountDict\n",
      "{'527': 67, '2858': 62, '2396': 61, '260': 55, '318': 54, '593': 50, '2762': 49, '912': 48, '34': 47, '356': 46}\n",
      "womanTopScoreDict\n",
      "{'527': 323, '2858': 292, '2396': 282, '318': 255, '260': 255, '2762': 229, '912': 227, '593': 227, '34': 214, '2028': 214}\n",
      "womanTopAverage\n",
      "[(4.82089552238806, '527'), (4.729166666666667, '912'), (4.722222222222222, '318'), (4.709677419354839, '2858'), (4.673469387755102, '2762'), (4.636363636363637, '260'), (4.622950819672131, '2396'), (4.553191489361702, '34'), (4.54, '593')]\n"
     ]
    }
   ],
   "source": [
    "womanMoviesDict = getHigherThanAverageRatingMovies(womanRatingsDict)\n",
    "# get list\n",
    "womanTopCount = getTopCountMovies(womanMoviesDict, 10)\n",
    "womanTopScore = getTopScoreMovies(womanMoviesDict, 10)\n",
    "# conver to dictionary\n",
    "womanTopCountDict = convertDictionaryByList(womanTopCount)\n",
    "womanTopScoreDict = convertDictionaryByList(womanTopScore)\n",
    "# get average score\n",
    "womanTopAverage = getTopAverageMovies(womanTopCountDict, womanTopScoreDict)\n",
    "print('womanTopCountDict')\n",
    "print(womanTopCountDict)\n",
    "print('womanTopScoreDict')\n",
    "print(womanTopScoreDict)\n",
    "print('womanTopAverage')\n",
    "print(womanTopAverage)"
   ]
  },
  {
   "cell_type": "code",
   "execution_count": 599,
   "metadata": {},
   "outputs": [
    {
     "name": "stdout",
     "output_type": "stream",
     "text": [
      "527, Schindler's List (1993)\n",
      "4.82089552238806\n",
      "912, Casablanca (1942)\n",
      "4.729166666666667\n",
      "318, Shawshank Redemption, The (1994)\n",
      "4.722222222222222\n",
      "2858, American Beauty (1999)\n",
      "4.709677419354839\n",
      "2762, Sixth Sense, The (1999)\n",
      "4.673469387755102\n",
      "260, Star Wars: Episode IV - A New Hope (1977)\n",
      "4.636363636363637\n",
      "2396, Shakespeare in Love (1998)\n",
      "4.622950819672131\n",
      "34, Babe (1995)\n",
      "4.553191489361702\n",
      "593, Silence of the Lambs, The (1991)\n",
      "4.54\n"
     ]
    }
   ],
   "source": [
    "#show top average movies\n",
    "for data in womanTopAverage:\n",
    "    movie = moviesDict[data[1]]\n",
    "    print(movie['movieID'] + ', ' + movie['title'])\n",
    "    print(data[0])"
   ]
  },
  {
   "cell_type": "code",
   "execution_count": 600,
   "metadata": {},
   "outputs": [
    {
     "name": "stdout",
     "output_type": "stream",
     "text": [
      "659, Purple Noon (1960)\n",
      "1.0000000000000027\n",
      "3302, Beautiful People (1999)\n",
      "1.0000000000000027\n",
      "3283, Minnie and Moskowitz (1971)\n",
      "1.0000000000000007\n",
      "3027, Slaughterhouse 2 (1988)\n",
      "1.0000000000000007\n",
      "967, Outlaw, The (1943)\n",
      "1.0\n",
      "962, They Made Me a Criminal (1939)\n",
      "1.0\n",
      "958, Lady of Burlesque (1943)\n",
      "1.0\n",
      "769, Marlene Dietrich: Shadow and Light (1996)\n",
      "1.0\n",
      "754, Gold Diggers: The Secret of Bear Mountain (1995)\n",
      "1.0\n",
      "696, Butterfly Kiss (1995)\n",
      "1.0\n"
     ]
    }
   ],
   "source": [
    "# get similar movies of Matrix(2517)\n",
    "topMovies = topMatches(transformPrefs(userRatingsDict) , '2517', 10)\n",
    "movies = [(movieID, rating) for (rating, movieID) in topMovies]\n",
    "for (movieID, rating) in movies:\n",
    "    movie = moviesDict[movieID]\n",
    "    print(movie['movieID'] + ', ' + movie['title'])\n",
    "    print(rating)\n"
   ]
  },
  {
   "cell_type": "code",
   "execution_count": 601,
   "metadata": {},
   "outputs": [
    {
     "name": "stdout",
     "output_type": "stream",
     "text": [
      "0.3680899143218994\n",
      "0.00047516822814941406\n"
     ]
    }
   ],
   "source": [
    "print(userBaseProcessTime)\n",
    "print(itemBaseProcessTime)"
   ]
  }
 ],
 "metadata": {
  "kernelspec": {
   "display_name": "Python 3",
   "language": "python",
   "name": "python3"
  },
  "language_info": {
   "codemirror_mode": {
    "name": "ipython",
    "version": 3
   },
   "file_extension": ".py",
   "mimetype": "text/x-python",
   "name": "python",
   "nbconvert_exporter": "python",
   "pygments_lexer": "ipython3",
   "version": "3.6.2"
  }
 },
 "nbformat": 4,
 "nbformat_minor": 2
}
